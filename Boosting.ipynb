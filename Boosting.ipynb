{
 "cells": [
  {
   "cell_type": "code",
   "execution_count": 81,
   "metadata": {},
   "outputs": [],
   "source": [
    "import sklearn as sk\n",
    "from sklearn.model_selection import train_test_split\n",
    "from sklearn.model_selection import GridSearchCV\n",
    "import numpy as np\n",
    "import pandas as pd\n",
    "import xgboost as xgb\n",
    "from sklearn.metrics import roc_auc_score\n",
    "import time\n",
    "from sklearn.model_selection import KFold\n",
    "import warnings\n",
    "from sklearn.model_selection import cross_val_score"
   ]
  },
  {
   "cell_type": "code",
   "execution_count": 2,
   "metadata": {},
   "outputs": [
    {
     "name": "stdout",
     "output_type": "stream",
     "text": [
      "2.7400450706481934  sec\n"
     ]
    }
   ],
   "source": [
    "start_time = time.time()\n",
    "df = pd.read_csv('C:\\\\users\\\\user\\\\cc_sample.txt', sep=';',index_col=False, decimal=',') \n",
    "print(-start_time + time.time(),\" sec\")"
   ]
  },
  {
   "cell_type": "code",
   "execution_count": 32,
   "metadata": {},
   "outputs": [],
   "source": [
    "#Get Dataframe as input, return DataFrame with filled nulls\n",
    "def fill_null(x,s):\n",
    "    for i in x.columns:\n",
    "        x[i] = x[i].fillna(s)\n",
    "    return x\n",
    "\n",
    "#Check type of variable and return numeric or cat\n",
    "def check_type(x):\n",
    "    from pandas.api.types import is_string_dtype\n",
    "    from pandas.api.types import is_numeric_dtype   \n",
    "    #Удаляем пустые значения\n",
    "    x = x[x.notnull()]\n",
    "    #Если число различных значений меньше 4, то тип-категориальный\n",
    "    if x.nunique()<=4: return 'cat'\n",
    "    elif is_numeric_dtype(x): return 'numeric'\n",
    "    else: return 'cat'\n",
    "    \n",
    "#Input: DataFrame\n",
    "#Output: DataFrame with one-hot variables\n",
    "def cat_to_one_hot(x):\n",
    "    for col in x.columns:\n",
    "        if check_type(x[col])=='cat':\n",
    "            tmp = pd.get_dummies(x[col],prefix=x[col].name,drop_first=True)\n",
    "            for i in tmp.columns:\n",
    "                x[i] = tmp[i]\n",
    "            del x[col]\n",
    "    return x\n",
    "\n",
    "def gini(model,x,y):\n",
    "    gini =  2*roc_auc_score(y,model.predict_proba(x)[:,1])-1\n",
    "   # print('GINI = ',2*roc_auc_score(y,model.predict_proba(x)[:,1])-1)   \n",
    "    return gini\n",
    "    "
   ]
  },
  {
   "cell_type": "code",
   "execution_count": 4,
   "metadata": {},
   "outputs": [],
   "source": [
    "df = fill_null(df,-1)\n",
    "df = cat_to_one_hot(df)"
   ]
  },
  {
   "cell_type": "code",
   "execution_count": 139,
   "metadata": {},
   "outputs": [
    {
     "name": "stdout",
     "output_type": "stream",
     "text": [
      "Fitting 3 folds for each of 1 candidates, totalling 3 fits\n"
     ]
    },
    {
     "name": "stderr",
     "output_type": "stream",
     "text": [
      "[Parallel(n_jobs=-1)]: Done   3 out of   3 | elapsed:   25.3s finished\n"
     ]
    },
    {
     "name": "stdout",
     "output_type": "stream",
     "text": [
      "40.08197855949402  sec\n"
     ]
    }
   ],
   "source": [
    "warnings.simplefilter('ignore', DeprecationWarning)\n",
    "start_time = time.time()\n",
    "x_sample=df.copy()\n",
    "x_sample = x_sample.drop(['CONTRACT_SRC_CODE','SCORE_FINAL','BAD_12_FLAG90_1'], axis=1)\n",
    "y = df[\"BAD_12_FLAG90_1\"][df['BAD_12_FLAG90_1'].notnull()] \n",
    "\n",
    "xgb_model = xgb.XGBClassifier(base_score=0.5, colsample_bylevel=1, colsample_bytree=1,\n",
    "                               gamma=0, learning_rate=0.1, max_delta_step=0, max_depth=4,\n",
    "                               min_child_weight=1, missing=None, n_estimators=500, nthread=-1,\n",
    "                               objective='binary:logistic', reg_alpha=30, reg_lambda=1,\n",
    "                               scale_pos_weight=1, seed=42, silent=True, subsample=1,tree_method='gpu_hist')\n",
    "kfold = KFold(n_splits=3, shuffle=True)\n",
    "clf = GridSearchCV(xgb_model,{'learning_rate': [0.1]}, \n",
    "                        verbose=2, \n",
    "                        scoring='roc_auc',\n",
    "                        cv=kfold,\n",
    "                        n_jobs=-1)\n",
    "clf.fit(x_sample,y)\n",
    "print(-start_time + time.time(),\" sec\")\n"
   ]
  },
  {
   "cell_type": "code",
   "execution_count": 141,
   "metadata": {},
   "outputs": [
    {
     "data": {
      "text/html": [
       "<div>\n",
       "<style scoped>\n",
       "    .dataframe tbody tr th:only-of-type {\n",
       "        vertical-align: middle;\n",
       "    }\n",
       "\n",
       "    .dataframe tbody tr th {\n",
       "        vertical-align: top;\n",
       "    }\n",
       "\n",
       "    .dataframe thead th {\n",
       "        text-align: right;\n",
       "    }\n",
       "</style>\n",
       "<table border=\"1\" class=\"dataframe\">\n",
       "  <thead>\n",
       "    <tr style=\"text-align: right;\">\n",
       "      <th></th>\n",
       "      <th>params</th>\n",
       "      <th>dev_gini</th>\n",
       "      <th>val_gini</th>\n",
       "    </tr>\n",
       "  </thead>\n",
       "  <tbody>\n",
       "    <tr>\n",
       "      <th>0</th>\n",
       "      <td>{'learning_rate': 0.1}</td>\n",
       "      <td>0.702631</td>\n",
       "      <td>0.656443</td>\n",
       "    </tr>\n",
       "  </tbody>\n",
       "</table>\n",
       "</div>"
      ],
      "text/plain": [
       "                   params  dev_gini  val_gini\n",
       "0  {'learning_rate': 0.1}  0.702631  0.656443"
      ]
     },
     "execution_count": 141,
     "metadata": {},
     "output_type": "execute_result"
    }
   ],
   "source": [
    "warnings.simplefilter('ignore', FutureWarning)\n",
    "res = pd.DataFrame(clf.cv_results_)\n",
    "res[\"dev_gini\"] = 2*res[\"mean_train_score\"]-1\n",
    "res[\"val_gini\"] = 2*res[\"mean_test_score\"]-1\n",
    "res[[\"params\",\"dev_gini\",\"val_gini\"]]\n"
   ]
  }
 ],
 "metadata": {
  "kernelspec": {
   "display_name": "Python 3",
   "language": "python",
   "name": "python3"
  },
  "language_info": {
   "codemirror_mode": {
    "name": "ipython",
    "version": 3
   },
   "file_extension": ".py",
   "mimetype": "text/x-python",
   "name": "python",
   "nbconvert_exporter": "python",
   "pygments_lexer": "ipython3",
   "version": "3.6.5"
  }
 },
 "nbformat": 4,
 "nbformat_minor": 2
}
